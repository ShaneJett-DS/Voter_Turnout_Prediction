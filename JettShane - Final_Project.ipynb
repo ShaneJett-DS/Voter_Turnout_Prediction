{
 "cells": [
  {
   "cell_type": "markdown",
   "id": "1b9d5a43",
   "metadata": {},
   "source": [
    "# Final Project: Wake County, N.C. Voter Data"
   ]
  },
  {
   "cell_type": "code",
   "execution_count": 1,
   "id": "b7e77589",
   "metadata": {},
   "outputs": [],
   "source": [
    "import pandas as pd"
   ]
  },
  {
   "cell_type": "markdown",
   "id": "8359d7cd",
   "metadata": {},
   "source": [
    "### Import Data"
   ]
  },
  {
   "cell_type": "code",
   "execution_count": 4,
   "id": "417857d4",
   "metadata": {},
   "outputs": [],
   "source": [
    "# Dataframe 1 \n",
    "data1 = pd.read_excel('vrdb01.xlsx')\n",
    "\n",
    "# Dataframe 2\n",
    "data2 = pd.read_excel('vrdb02_12.xlsx')\n",
    "\n",
    "# Dataframe 3\n",
    "data3 = pd.read_excel('vrdb13_20.xlsx')"
   ]
  },
  {
   "cell_type": "markdown",
   "id": "eb9d9b43",
   "metadata": {},
   "source": [
    "### Preview Data"
   ]
  },
  {
   "cell_type": "code",
   "execution_count": 5,
   "id": "8d3cae6d",
   "metadata": {},
   "outputs": [
    {
     "data": {
      "text/html": [
       "<div>\n",
       "<style scoped>\n",
       "    .dataframe tbody tr th:only-of-type {\n",
       "        vertical-align: middle;\n",
       "    }\n",
       "\n",
       "    .dataframe tbody tr th {\n",
       "        vertical-align: top;\n",
       "    }\n",
       "\n",
       "    .dataframe thead th {\n",
       "        text-align: right;\n",
       "    }\n",
       "</style>\n",
       "<table border=\"1\" class=\"dataframe\">\n",
       "  <thead>\n",
       "    <tr style=\"text-align: right;\">\n",
       "      <th></th>\n",
       "      <th>county_name</th>\n",
       "      <th>ReportDate</th>\n",
       "      <th>voter_reg_num</th>\n",
       "      <th>status_lbl</th>\n",
       "      <th>last_name</th>\n",
       "      <th>first_name</th>\n",
       "      <th>middle_name</th>\n",
       "      <th>name_suffix_lbl</th>\n",
       "      <th>house_num</th>\n",
       "      <th>half_code</th>\n",
       "      <th>...</th>\n",
       "      <th>11/06/2018</th>\n",
       "      <th>10/08/2019</th>\n",
       "      <th>11/05/2019</th>\n",
       "      <th>03/03/2020</th>\n",
       "      <th>11/03/2020</th>\n",
       "      <th>10/05/2021</th>\n",
       "      <th>11/02/2021</th>\n",
       "      <th>05/17/2022</th>\n",
       "      <th>07/26/2022</th>\n",
       "      <th>11/08/2022</th>\n",
       "    </tr>\n",
       "  </thead>\n",
       "  <tbody>\n",
       "    <tr>\n",
       "      <th>0</th>\n",
       "      <td>WAKE</td>\n",
       "      <td>2023-02-20</td>\n",
       "      <td>100928943</td>\n",
       "      <td>A</td>\n",
       "      <td>ABERCOMBIE</td>\n",
       "      <td>EWAN</td>\n",
       "      <td>MARTIN</td>\n",
       "      <td>NaN</td>\n",
       "      <td>0</td>\n",
       "      <td>NaN</td>\n",
       "      <td>...</td>\n",
       "      <td>NaN</td>\n",
       "      <td>NaN</td>\n",
       "      <td>NaN</td>\n",
       "      <td>NaN</td>\n",
       "      <td>NaN</td>\n",
       "      <td>NaN</td>\n",
       "      <td>NaN</td>\n",
       "      <td>NaN</td>\n",
       "      <td>NaN</td>\n",
       "      <td>NaN</td>\n",
       "    </tr>\n",
       "    <tr>\n",
       "      <th>1</th>\n",
       "      <td>WAKE</td>\n",
       "      <td>2023-02-20</td>\n",
       "      <td>100904483</td>\n",
       "      <td>A</td>\n",
       "      <td>ACKERMAN</td>\n",
       "      <td>RENEE</td>\n",
       "      <td>NICOLE</td>\n",
       "      <td>NaN</td>\n",
       "      <td>2212</td>\n",
       "      <td>NaN</td>\n",
       "      <td>...</td>\n",
       "      <td>NaN</td>\n",
       "      <td>NaN</td>\n",
       "      <td>NaN</td>\n",
       "      <td>NaN</td>\n",
       "      <td>NaN</td>\n",
       "      <td>NaN</td>\n",
       "      <td>NaN</td>\n",
       "      <td>NaN</td>\n",
       "      <td>NaN</td>\n",
       "      <td>O</td>\n",
       "    </tr>\n",
       "    <tr>\n",
       "      <th>2</th>\n",
       "      <td>WAKE</td>\n",
       "      <td>2023-02-20</td>\n",
       "      <td>10165132</td>\n",
       "      <td>A</td>\n",
       "      <td>ADAMS</td>\n",
       "      <td>DOROTA</td>\n",
       "      <td>TULODZIECKA</td>\n",
       "      <td>NaN</td>\n",
       "      <td>308</td>\n",
       "      <td>NaN</td>\n",
       "      <td>...</td>\n",
       "      <td>M</td>\n",
       "      <td>V</td>\n",
       "      <td>NaN</td>\n",
       "      <td>V</td>\n",
       "      <td>M</td>\n",
       "      <td>NaN</td>\n",
       "      <td>NaN</td>\n",
       "      <td>NaN</td>\n",
       "      <td>NaN</td>\n",
       "      <td>M</td>\n",
       "    </tr>\n",
       "    <tr>\n",
       "      <th>3</th>\n",
       "      <td>WAKE</td>\n",
       "      <td>2023-02-20</td>\n",
       "      <td>27940</td>\n",
       "      <td>A</td>\n",
       "      <td>ADAMS</td>\n",
       "      <td>JEFFERSON</td>\n",
       "      <td>HODGES</td>\n",
       "      <td>NaN</td>\n",
       "      <td>308</td>\n",
       "      <td>NaN</td>\n",
       "      <td>...</td>\n",
       "      <td>O</td>\n",
       "      <td>V</td>\n",
       "      <td>NaN</td>\n",
       "      <td>V</td>\n",
       "      <td>M</td>\n",
       "      <td>NaN</td>\n",
       "      <td>NaN</td>\n",
       "      <td>NaN</td>\n",
       "      <td>NaN</td>\n",
       "      <td>M</td>\n",
       "    </tr>\n",
       "    <tr>\n",
       "      <th>4</th>\n",
       "      <td>WAKE</td>\n",
       "      <td>2023-02-20</td>\n",
       "      <td>100930039</td>\n",
       "      <td>A</td>\n",
       "      <td>ADAMS</td>\n",
       "      <td>KATHRYN</td>\n",
       "      <td>JANEL</td>\n",
       "      <td>NaN</td>\n",
       "      <td>0</td>\n",
       "      <td>NaN</td>\n",
       "      <td>...</td>\n",
       "      <td>NaN</td>\n",
       "      <td>NaN</td>\n",
       "      <td>NaN</td>\n",
       "      <td>NaN</td>\n",
       "      <td>NaN</td>\n",
       "      <td>NaN</td>\n",
       "      <td>NaN</td>\n",
       "      <td>NaN</td>\n",
       "      <td>NaN</td>\n",
       "      <td>O</td>\n",
       "    </tr>\n",
       "  </tbody>\n",
       "</table>\n",
       "<p>5 rows × 54 columns</p>\n",
       "</div>"
      ],
      "text/plain": [
       "  county_name ReportDate  voter_reg_num status_lbl   last_name first_name  \\\n",
       "0        WAKE 2023-02-20      100928943          A  ABERCOMBIE       EWAN   \n",
       "1        WAKE 2023-02-20      100904483          A    ACKERMAN      RENEE   \n",
       "2        WAKE 2023-02-20       10165132          A       ADAMS     DOROTA   \n",
       "3        WAKE 2023-02-20          27940          A       ADAMS  JEFFERSON   \n",
       "4        WAKE 2023-02-20      100930039          A       ADAMS    KATHRYN   \n",
       "\n",
       "   middle_name name_suffix_lbl  house_num half_code  ... 11/06/2018  \\\n",
       "0       MARTIN             NaN          0       NaN  ...        NaN   \n",
       "1       NICOLE             NaN       2212       NaN  ...        NaN   \n",
       "2  TULODZIECKA             NaN        308       NaN  ...          M   \n",
       "3       HODGES             NaN        308       NaN  ...          O   \n",
       "4        JANEL             NaN          0       NaN  ...        NaN   \n",
       "\n",
       "  10/08/2019 11/05/2019 03/03/2020  11/03/2020 10/05/2021 11/02/2021  \\\n",
       "0        NaN        NaN        NaN         NaN        NaN        NaN   \n",
       "1        NaN        NaN        NaN         NaN        NaN        NaN   \n",
       "2          V        NaN          V           M        NaN        NaN   \n",
       "3          V        NaN          V           M        NaN        NaN   \n",
       "4        NaN        NaN        NaN         NaN        NaN        NaN   \n",
       "\n",
       "  05/17/2022  07/26/2022 11/08/2022  \n",
       "0        NaN         NaN        NaN  \n",
       "1        NaN         NaN          O  \n",
       "2        NaN         NaN          M  \n",
       "3        NaN         NaN          M  \n",
       "4        NaN         NaN          O  \n",
       "\n",
       "[5 rows x 54 columns]"
      ]
     },
     "execution_count": 5,
     "metadata": {},
     "output_type": "execute_result"
    }
   ],
   "source": [
    "data1.head()"
   ]
  },
  {
   "cell_type": "markdown",
   "id": "38c91514",
   "metadata": {},
   "source": [
    "### Merge all 3 tables together"
   ]
  },
  {
   "cell_type": "code",
   "execution_count": 6,
   "id": "bb1cc968",
   "metadata": {},
   "outputs": [
    {
     "data": {
      "text/html": [
       "<div>\n",
       "<style scoped>\n",
       "    .dataframe tbody tr th:only-of-type {\n",
       "        vertical-align: middle;\n",
       "    }\n",
       "\n",
       "    .dataframe tbody tr th {\n",
       "        vertical-align: top;\n",
       "    }\n",
       "\n",
       "    .dataframe thead th {\n",
       "        text-align: right;\n",
       "    }\n",
       "</style>\n",
       "<table border=\"1\" class=\"dataframe\">\n",
       "  <thead>\n",
       "    <tr style=\"text-align: right;\">\n",
       "      <th></th>\n",
       "      <th>county_name</th>\n",
       "      <th>ReportDate</th>\n",
       "      <th>voter_reg_num</th>\n",
       "      <th>status_lbl</th>\n",
       "      <th>last_name</th>\n",
       "      <th>first_name</th>\n",
       "      <th>middle_name</th>\n",
       "      <th>name_suffix_lbl</th>\n",
       "      <th>house_num</th>\n",
       "      <th>half_code</th>\n",
       "      <th>...</th>\n",
       "      <th>11/06/2018</th>\n",
       "      <th>10/08/2019</th>\n",
       "      <th>11/05/2019</th>\n",
       "      <th>03/03/2020</th>\n",
       "      <th>11/03/2020</th>\n",
       "      <th>10/05/2021</th>\n",
       "      <th>11/02/2021</th>\n",
       "      <th>05/17/2022</th>\n",
       "      <th>07/26/2022</th>\n",
       "      <th>11/08/2022</th>\n",
       "    </tr>\n",
       "  </thead>\n",
       "  <tbody>\n",
       "    <tr>\n",
       "      <th>0</th>\n",
       "      <td>WAKE</td>\n",
       "      <td>2023-02-20</td>\n",
       "      <td>100928943</td>\n",
       "      <td>A</td>\n",
       "      <td>ABERCOMBIE</td>\n",
       "      <td>EWAN</td>\n",
       "      <td>MARTIN</td>\n",
       "      <td>NaN</td>\n",
       "      <td>0</td>\n",
       "      <td>NaN</td>\n",
       "      <td>...</td>\n",
       "      <td>NaN</td>\n",
       "      <td>NaN</td>\n",
       "      <td>NaN</td>\n",
       "      <td>NaN</td>\n",
       "      <td>NaN</td>\n",
       "      <td>NaN</td>\n",
       "      <td>NaN</td>\n",
       "      <td>NaN</td>\n",
       "      <td>NaN</td>\n",
       "      <td>NaN</td>\n",
       "    </tr>\n",
       "    <tr>\n",
       "      <th>1</th>\n",
       "      <td>WAKE</td>\n",
       "      <td>2023-02-20</td>\n",
       "      <td>100904483</td>\n",
       "      <td>A</td>\n",
       "      <td>ACKERMAN</td>\n",
       "      <td>RENEE</td>\n",
       "      <td>NICOLE</td>\n",
       "      <td>NaN</td>\n",
       "      <td>2212</td>\n",
       "      <td>NaN</td>\n",
       "      <td>...</td>\n",
       "      <td>NaN</td>\n",
       "      <td>NaN</td>\n",
       "      <td>NaN</td>\n",
       "      <td>NaN</td>\n",
       "      <td>NaN</td>\n",
       "      <td>NaN</td>\n",
       "      <td>NaN</td>\n",
       "      <td>NaN</td>\n",
       "      <td>NaN</td>\n",
       "      <td>O</td>\n",
       "    </tr>\n",
       "    <tr>\n",
       "      <th>2</th>\n",
       "      <td>WAKE</td>\n",
       "      <td>2023-02-20</td>\n",
       "      <td>10165132</td>\n",
       "      <td>A</td>\n",
       "      <td>ADAMS</td>\n",
       "      <td>DOROTA</td>\n",
       "      <td>TULODZIECKA</td>\n",
       "      <td>NaN</td>\n",
       "      <td>308</td>\n",
       "      <td>NaN</td>\n",
       "      <td>...</td>\n",
       "      <td>M</td>\n",
       "      <td>V</td>\n",
       "      <td>NaN</td>\n",
       "      <td>V</td>\n",
       "      <td>M</td>\n",
       "      <td>NaN</td>\n",
       "      <td>NaN</td>\n",
       "      <td>NaN</td>\n",
       "      <td>NaN</td>\n",
       "      <td>M</td>\n",
       "    </tr>\n",
       "    <tr>\n",
       "      <th>3</th>\n",
       "      <td>WAKE</td>\n",
       "      <td>2023-02-20</td>\n",
       "      <td>27940</td>\n",
       "      <td>A</td>\n",
       "      <td>ADAMS</td>\n",
       "      <td>JEFFERSON</td>\n",
       "      <td>HODGES</td>\n",
       "      <td>NaN</td>\n",
       "      <td>308</td>\n",
       "      <td>NaN</td>\n",
       "      <td>...</td>\n",
       "      <td>O</td>\n",
       "      <td>V</td>\n",
       "      <td>NaN</td>\n",
       "      <td>V</td>\n",
       "      <td>M</td>\n",
       "      <td>NaN</td>\n",
       "      <td>NaN</td>\n",
       "      <td>NaN</td>\n",
       "      <td>NaN</td>\n",
       "      <td>M</td>\n",
       "    </tr>\n",
       "    <tr>\n",
       "      <th>4</th>\n",
       "      <td>WAKE</td>\n",
       "      <td>2023-02-20</td>\n",
       "      <td>100930039</td>\n",
       "      <td>A</td>\n",
       "      <td>ADAMS</td>\n",
       "      <td>KATHRYN</td>\n",
       "      <td>JANEL</td>\n",
       "      <td>NaN</td>\n",
       "      <td>0</td>\n",
       "      <td>NaN</td>\n",
       "      <td>...</td>\n",
       "      <td>NaN</td>\n",
       "      <td>NaN</td>\n",
       "      <td>NaN</td>\n",
       "      <td>NaN</td>\n",
       "      <td>NaN</td>\n",
       "      <td>NaN</td>\n",
       "      <td>NaN</td>\n",
       "      <td>NaN</td>\n",
       "      <td>NaN</td>\n",
       "      <td>O</td>\n",
       "    </tr>\n",
       "  </tbody>\n",
       "</table>\n",
       "<p>5 rows × 54 columns</p>\n",
       "</div>"
      ],
      "text/plain": [
       "  county_name ReportDate  voter_reg_num status_lbl   last_name first_name  \\\n",
       "0        WAKE 2023-02-20      100928943          A  ABERCOMBIE       EWAN   \n",
       "1        WAKE 2023-02-20      100904483          A    ACKERMAN      RENEE   \n",
       "2        WAKE 2023-02-20       10165132          A       ADAMS     DOROTA   \n",
       "3        WAKE 2023-02-20          27940          A       ADAMS  JEFFERSON   \n",
       "4        WAKE 2023-02-20      100930039          A       ADAMS    KATHRYN   \n",
       "\n",
       "   middle_name name_suffix_lbl  house_num half_code  ... 11/06/2018  \\\n",
       "0       MARTIN             NaN          0       NaN  ...        NaN   \n",
       "1       NICOLE             NaN       2212       NaN  ...        NaN   \n",
       "2  TULODZIECKA             NaN        308       NaN  ...          M   \n",
       "3       HODGES             NaN        308       NaN  ...          O   \n",
       "4        JANEL             NaN          0       NaN  ...        NaN   \n",
       "\n",
       "  10/08/2019 11/05/2019 03/03/2020  11/03/2020 10/05/2021 11/02/2021  \\\n",
       "0        NaN        NaN        NaN         NaN        NaN        NaN   \n",
       "1        NaN        NaN        NaN         NaN        NaN        NaN   \n",
       "2          V        NaN          V           M        NaN        NaN   \n",
       "3          V        NaN          V           M        NaN        NaN   \n",
       "4        NaN        NaN        NaN         NaN        NaN        NaN   \n",
       "\n",
       "  05/17/2022  07/26/2022 11/08/2022  \n",
       "0        NaN         NaN        NaN  \n",
       "1        NaN         NaN          O  \n",
       "2        NaN         NaN          M  \n",
       "3        NaN         NaN          M  \n",
       "4        NaN         NaN          O  \n",
       "\n",
       "[5 rows x 54 columns]"
      ]
     },
     "execution_count": 6,
     "metadata": {},
     "output_type": "execute_result"
    }
   ],
   "source": [
    "raw_df = pd.concat([data1,data2,data3])\n",
    "raw_df.head()"
   ]
  },
  {
   "cell_type": "code",
   "execution_count": 7,
   "id": "a21f2784",
   "metadata": {},
   "outputs": [
    {
     "data": {
      "text/plain": [
       "(794524, 54)"
      ]
     },
     "execution_count": 7,
     "metadata": {},
     "output_type": "execute_result"
    }
   ],
   "source": [
    "raw_df.shape"
   ]
  },
  {
   "cell_type": "markdown",
   "id": "b336fdef",
   "metadata": {},
   "source": [
    "### Filter out <u>Inactive</u> Voters"
   ]
  },
  {
   "cell_type": "code",
   "execution_count": 8,
   "id": "b3d777e1",
   "metadata": {},
   "outputs": [
    {
     "data": {
      "text/plain": [
       "A    712637\n",
       "Name: status_lbl, dtype: int64"
      ]
     },
     "execution_count": 8,
     "metadata": {},
     "output_type": "execute_result"
    }
   ],
   "source": [
    "# Filter status lbl columns for 'A'(Active) voters\n",
    "df1 = raw_df[raw_df['status_lbl'] == 'A'] .copy()\n",
    "\n",
    "# Verify the filter\n",
    "df1.status_lbl.value_counts()"
   ]
  },
  {
   "cell_type": "markdown",
   "id": "270e911c",
   "metadata": {},
   "source": [
    "### Filter out voters registered after 11-03-2020"
   ]
  },
  {
   "cell_type": "code",
   "execution_count": 9,
   "id": "7db86765",
   "metadata": {},
   "outputs": [
    {
     "data": {
      "text/plain": [
       "240113   2020-11-02\n",
       "215552   2020-11-02\n",
       "45193    2020-11-02\n",
       "29024    2020-11-02\n",
       "171484   2020-11-02\n",
       "            ...    \n",
       "42350    1952-01-01\n",
       "219470   1952-01-01\n",
       "18117    1952-01-01\n",
       "31470    1952-01-01\n",
       "192650   1952-01-01\n",
       "Name: registration_dt, Length: 600119, dtype: datetime64[ns]"
      ]
     },
     "execution_count": 9,
     "metadata": {},
     "output_type": "execute_result"
    }
   ],
   "source": [
    "# Convert the registration_dt column into a Datetime Object\n",
    "df1['registration_dt'] = pd.to_datetime(df1['registration_dt'])\n",
    "\n",
    "# Verify that most recent reg. date is before 11/3/2020 \n",
    "df1.loc[df1['registration_dt'] < '11-03-2020', 'registration_dt'].sort_values(ascending=False)"
   ]
  },
  {
   "cell_type": "markdown",
   "id": "52db4c6d",
   "metadata": {},
   "source": [
    "###  Covert Look up Values to Actual Values\n",
    "* Columns: gender_lbl, race_lbl, party_lbl"
   ]
  },
  {
   "cell_type": "code",
   "execution_count": 10,
   "id": "dad0187e",
   "metadata": {},
   "outputs": [
    {
     "name": "stdout",
     "output_type": "stream",
     "text": [
      "F    346937\n",
      "M    300036\n",
      "U     65663\n",
      "Name: gender_lbl, dtype: int64\n",
      "W    448035\n",
      "B    121975\n",
      "U     75620\n",
      "O     31782\n",
      "A     28783\n",
      "M      4634\n",
      "I      1761\n",
      "P        47\n",
      "Name: race_lbl, dtype: int64\n",
      "UNA    294142\n",
      "DEM    253742\n",
      "REP    159462\n",
      "LIB      5192\n",
      "GRE        99\n",
      "Name: party_lbl, dtype: int64\n"
     ]
    }
   ],
   "source": [
    "# Inspect Look-up value counts\n",
    "print(df1['gender_lbl'].value_counts())\n",
    "print(df1['race_lbl'].value_counts())\n",
    "print(df1['party_lbl'].value_counts())"
   ]
  },
  {
   "cell_type": "code",
   "execution_count": 11,
   "id": "5e296529",
   "metadata": {},
   "outputs": [],
   "source": [
    "# Functions to transform Look-up values to actual values\n",
    "\n",
    "# gender_lbl Function\n",
    "def gender_conv(gender):\n",
    "    if gender == 'M':\n",
    "        return 'Male'\n",
    "    elif gender == 'F':\n",
    "        return 'Female'\n",
    "    else:\n",
    "        return 'Other'\n",
    "\n",
    "# race_lbl Function\n",
    "def race_conv(race):\n",
    "    if race == 'W':\n",
    "        return 'White'\n",
    "    elif race == 'B':\n",
    "        return 'Black'\n",
    "    else:\n",
    "        return 'Other'\n",
    "\n",
    "# party_lbl Function\n",
    "def party_conv(party):\n",
    "    if party == 'DEM':\n",
    "        return 'Democrat'\n",
    "    elif party == 'REP':\n",
    "        return 'Republican'\n",
    "    elif party == 'UNA':\n",
    "        return 'Unaffiliated'\n",
    "    else:\n",
    "        return 'Other'"
   ]
  },
  {
   "cell_type": "code",
   "execution_count": 12,
   "id": "74024a46",
   "metadata": {},
   "outputs": [
    {
     "name": "stdout",
     "output_type": "stream",
     "text": [
      "Female    346937\n",
      "Male      300036\n",
      "Other      65664\n",
      "Name: gender_lbl, dtype: int64\n",
      "White    448035\n",
      "Other    142627\n",
      "Black    121975\n",
      "Name: race_lbl, dtype: int64\n",
      "Unaffiliated    294142\n",
      "Democrat        253742\n",
      "Republican      159462\n",
      "Other             5291\n",
      "Name: party_lbl, dtype: int64\n"
     ]
    }
   ],
   "source": [
    "# Tansform the columns using the functions above\n",
    "df1['gender_lbl'] = df1['gender_lbl'].apply(gender_conv).copy()\n",
    "df1['race_lbl'] = df1['race_lbl'].apply(race_conv).copy()\n",
    "df1['party_lbl'] = df1['party_lbl'].apply(party_conv).copy()\n",
    "\n",
    "# Verify the functions work. Print the new value counts \n",
    "print(df1['gender_lbl'].value_counts())\n",
    "print(df1['race_lbl'].value_counts())\n",
    "print(df1['party_lbl'].value_counts())"
   ]
  },
  {
   "cell_type": "markdown",
   "id": "f4c03fa1",
   "metadata": {},
   "source": [
    "### Remove all voting date columns except for '11/03/2020'"
   ]
  },
  {
   "cell_type": "code",
   "execution_count": 13,
   "id": "250d24b3",
   "metadata": {},
   "outputs": [
    {
     "data": {
      "text/plain": [
       "Index(['county_name', 'ReportDate', 'voter_reg_num', 'status_lbl', 'last_name',\n",
       "       'first_name', 'middle_name', 'name_suffix_lbl', 'house_num',\n",
       "       'half_code', 'street_dir_lbl', 'street_name', 'street_type_lbl',\n",
       "       'street_suffix_lbl', 'unit_designator', 'unit_num_str', 'city', 'state',\n",
       "       'zip', 'mail_addr1', 'mail_addr2', 'mail_addr3', 'mail_addr4',\n",
       "       'mail_city', 'mail_state', 'mail_zip', 'race_lbl', 'party_lbl',\n",
       "       'gender_lbl', 'registration_dt', 'eoy_age', 'precinct_lbl',\n",
       "       'municipality_lbl', 'ward_lbl', 'congressional_district_lbl',\n",
       "       'superior_court_lbl', 'judicial_district_lbl', 'nc_senate_lbl',\n",
       "       'nc_house_lbl', 'county_commissioner_lbl', 'school_lbl',\n",
       "       'prosecutorial_lbl', 'voting_district_lbl', '05/08/2018', '11/06/2018',\n",
       "       '10/08/2019', '11/05/2019', '03/03/2020', '11/03/2020', '10/05/2021',\n",
       "       '11/02/2021', '05/17/2022', '07/26/2022', '11/08/2022'],\n",
       "      dtype='object')"
      ]
     },
     "execution_count": 13,
     "metadata": {},
     "output_type": "execute_result"
    }
   ],
   "source": [
    "df1.columns"
   ]
  },
  {
   "cell_type": "code",
   "execution_count": 14,
   "id": "289fe5a5",
   "metadata": {},
   "outputs": [
    {
     "data": {
      "text/plain": [
       "Index(['county_name', 'ReportDate', 'voter_reg_num', 'status_lbl', 'last_name',\n",
       "       'first_name', 'middle_name', 'name_suffix_lbl', 'house_num',\n",
       "       'half_code', 'street_dir_lbl', 'street_name', 'street_type_lbl',\n",
       "       'street_suffix_lbl', 'unit_designator', 'unit_num_str', 'city', 'state',\n",
       "       'zip', 'mail_addr1', 'mail_addr2', 'mail_addr3', 'mail_addr4',\n",
       "       'mail_city', 'mail_state', 'mail_zip', 'race_lbl', 'party_lbl',\n",
       "       'gender_lbl', 'registration_dt', 'eoy_age', 'precinct_lbl',\n",
       "       'municipality_lbl', 'ward_lbl', 'congressional_district_lbl',\n",
       "       'superior_court_lbl', 'judicial_district_lbl', 'nc_senate_lbl',\n",
       "       'nc_house_lbl', 'county_commissioner_lbl', 'school_lbl',\n",
       "       'prosecutorial_lbl', 'voting_district_lbl', '11/03/2020'],\n",
       "      dtype='object')"
      ]
     },
     "execution_count": 14,
     "metadata": {},
     "output_type": "execute_result"
    }
   ],
   "source": [
    "# List of date columns to drop\n",
    "drop_cols = ['05/08/2018', '11/06/2018', '10/08/2019', '11/05/2019', '03/03/2020', \n",
    "             '10/05/2021','11/02/2021', '05/17/2022', '07/26/2022', '11/08/2022']\n",
    "\n",
    "# Drop list of date columns from dataframe\n",
    "df1 = df1.drop(drop_cols, axis=1)\n",
    "\n",
    "# Verify the columns have been removed\n",
    "df1.columns"
   ]
  },
  {
   "cell_type": "markdown",
   "id": "8cbd9d46",
   "metadata": {},
   "source": [
    "### Covert Target Varible '11/03/2020' to Binary \n",
    "* 1 = Did Vote\n",
    "* 0 = Did Not Vote (Missing Values)"
   ]
  },
  {
   "cell_type": "code",
   "execution_count": 15,
   "id": "3ea2a6c1",
   "metadata": {},
   "outputs": [
    {
     "data": {
      "text/plain": [
       "O    326083\n",
       "M    151698\n",
       "V     72155\n",
       "P      1424\n",
       "Name: 11/03/2020, dtype: int64"
      ]
     },
     "execution_count": 15,
     "metadata": {},
     "output_type": "execute_result"
    }
   ],
   "source": [
    "# Inspect values of target variable\n",
    "df1['11/03/2020'].value_counts()"
   ]
  },
  {
   "cell_type": "code",
   "execution_count": 16,
   "id": "e50c939d",
   "metadata": {},
   "outputs": [
    {
     "data": {
      "text/plain": [
       "161277"
      ]
     },
     "execution_count": 16,
     "metadata": {},
     "output_type": "execute_result"
    }
   ],
   "source": [
    "# Count the missing values\n",
    "df1['11/03/2020'].isnull().sum()"
   ]
  },
  {
   "cell_type": "code",
   "execution_count": 17,
   "id": "a97a449b",
   "metadata": {},
   "outputs": [
    {
     "data": {
      "text/plain": [
       "1    551360\n",
       "0    161277\n",
       "Name: 11/03/2020, dtype: int64"
      ]
     },
     "execution_count": 17,
     "metadata": {},
     "output_type": "execute_result"
    }
   ],
   "source": [
    "# Fill missing values of target variable with 'Missing'\n",
    "df1['11/03/2020'] = df1['11/03/2020'].fillna('Missing')\n",
    "\n",
    "\n",
    "# Create a function that converts values to Did Vote(1) or Did Not Vote(0)\n",
    "def vote_conv(vote):\n",
    "    if vote == 'Missing':\n",
    "        return 0\n",
    "    else:\n",
    "        return 1\n",
    "    \n",
    "# Apply the function to the Target Variable\n",
    "df1['11/03/2020'] = df1['11/03/2020'].apply(vote_conv).copy()\n",
    "\n",
    "# Verify that Negative Class values equals Missing value Count \n",
    "df1['11/03/2020'].value_counts()"
   ]
  },
  {
   "cell_type": "markdown",
   "id": "f13f36bc",
   "metadata": {},
   "source": [
    "### Find someone in the dataset that you \"know\"\n",
    "* I choose the governor of NC: Roy Cooper"
   ]
  },
  {
   "cell_type": "code",
   "execution_count": 18,
   "id": "10a45a10",
   "metadata": {},
   "outputs": [
    {
     "data": {
      "text/html": [
       "<div>\n",
       "<style scoped>\n",
       "    .dataframe tbody tr th:only-of-type {\n",
       "        vertical-align: middle;\n",
       "    }\n",
       "\n",
       "    .dataframe tbody tr th {\n",
       "        vertical-align: top;\n",
       "    }\n",
       "\n",
       "    .dataframe thead th {\n",
       "        text-align: right;\n",
       "    }\n",
       "</style>\n",
       "<table border=\"1\" class=\"dataframe\">\n",
       "  <thead>\n",
       "    <tr style=\"text-align: right;\">\n",
       "      <th></th>\n",
       "      <th>county_name</th>\n",
       "      <th>ReportDate</th>\n",
       "      <th>voter_reg_num</th>\n",
       "      <th>status_lbl</th>\n",
       "      <th>last_name</th>\n",
       "      <th>first_name</th>\n",
       "      <th>middle_name</th>\n",
       "      <th>name_suffix_lbl</th>\n",
       "      <th>house_num</th>\n",
       "      <th>half_code</th>\n",
       "      <th>...</th>\n",
       "      <th>congressional_district_lbl</th>\n",
       "      <th>superior_court_lbl</th>\n",
       "      <th>judicial_district_lbl</th>\n",
       "      <th>nc_senate_lbl</th>\n",
       "      <th>nc_house_lbl</th>\n",
       "      <th>county_commissioner_lbl</th>\n",
       "      <th>school_lbl</th>\n",
       "      <th>prosecutorial_lbl</th>\n",
       "      <th>voting_district_lbl</th>\n",
       "      <th>11/03/2020</th>\n",
       "    </tr>\n",
       "  </thead>\n",
       "  <tbody>\n",
       "    <tr>\n",
       "      <th>12418</th>\n",
       "      <td>WAKE</td>\n",
       "      <td>2023-02-20</td>\n",
       "      <td>31166223</td>\n",
       "      <td>A</td>\n",
       "      <td>COOPER</td>\n",
       "      <td>ROY</td>\n",
       "      <td>ASBERRY</td>\n",
       "      <td>III</td>\n",
       "      <td>1209</td>\n",
       "      <td>NaN</td>\n",
       "      <td>...</td>\n",
       "      <td>2</td>\n",
       "      <td>10A</td>\n",
       "      <td>10D</td>\n",
       "      <td>15</td>\n",
       "      <td>38</td>\n",
       "      <td>5</td>\n",
       "      <td>6</td>\n",
       "      <td>10</td>\n",
       "      <td>01-07</td>\n",
       "      <td>1</td>\n",
       "    </tr>\n",
       "  </tbody>\n",
       "</table>\n",
       "<p>1 rows × 44 columns</p>\n",
       "</div>"
      ],
      "text/plain": [
       "      county_name ReportDate  voter_reg_num status_lbl last_name first_name  \\\n",
       "12418        WAKE 2023-02-20       31166223          A    COOPER        ROY   \n",
       "\n",
       "      middle_name name_suffix_lbl  house_num half_code  ...  \\\n",
       "12418     ASBERRY             III       1209       NaN  ...   \n",
       "\n",
       "      congressional_district_lbl superior_court_lbl judicial_district_lbl  \\\n",
       "12418                          2                10A                   10D   \n",
       "\n",
       "      nc_senate_lbl  nc_house_lbl county_commissioner_lbl school_lbl  \\\n",
       "12418            15            38                       5          6   \n",
       "\n",
       "      prosecutorial_lbl  voting_district_lbl 11/03/2020  \n",
       "12418                10                01-07          1  \n",
       "\n",
       "[1 rows x 44 columns]"
      ]
     },
     "execution_count": 18,
     "metadata": {},
     "output_type": "execute_result"
    }
   ],
   "source": [
    "# Filter Records by NC governor's full name\n",
    "df1.loc[(df1['last_name'] == 'COOPER') & (df1['first_name'] == 'ROY') & (df1['middle_name'] == 'ASBERRY')]"
   ]
  },
  {
   "cell_type": "markdown",
   "id": "b86c0eac",
   "metadata": {},
   "source": [
    "### Remove any variables with a low expected predictive value\n",
    "* These are columns that have either one unique value, too many categorical values, or irrelevant/redundant information \n",
    "* Registration_dt will be dropped after the new column is made later"
   ]
  },
  {
   "cell_type": "code",
   "execution_count": 19,
   "id": "677c60e4",
   "metadata": {},
   "outputs": [
    {
     "data": {
      "text/plain": [
       "county_name                        1\n",
       "ReportDate                         1\n",
       "voter_reg_num                 712637\n",
       "status_lbl                         1\n",
       "last_name                     107082\n",
       "first_name                     61174\n",
       "middle_name                    75849\n",
       "name_suffix_lbl                   11\n",
       "house_num                      11270\n",
       "half_code                          4\n",
       "street_dir_lbl                     8\n",
       "street_name                    19253\n",
       "street_type_lbl                   41\n",
       "street_suffix_lbl                  6\n",
       "unit_designator                    0\n",
       "unit_num_str                    4131\n",
       "city                              19\n",
       "state                              1\n",
       "zip                               39\n",
       "mail_addr1                    384459\n",
       "mail_addr2                      2078\n",
       "mail_addr3                       103\n",
       "mail_addr4                        36\n",
       "mail_city                       1623\n",
       "mail_state                        58\n",
       "mail_zip                        7958\n",
       "race_lbl                           3\n",
       "party_lbl                          4\n",
       "gender_lbl                         3\n",
       "registration_dt                10545\n",
       "eoy_age                           91\n",
       "precinct_lbl                     208\n",
       "municipality_lbl                  15\n",
       "ward_lbl                          16\n",
       "congressional_district_lbl         2\n",
       "superior_court_lbl                 6\n",
       "judicial_district_lbl              6\n",
       "nc_senate_lbl                      6\n",
       "nc_house_lbl                      13\n",
       "county_commissioner_lbl            7\n",
       "school_lbl                         9\n",
       "prosecutorial_lbl                  1\n",
       "voting_district_lbl              191\n",
       "11/03/2020                         2\n",
       "dtype: int64"
      ]
     },
     "execution_count": 19,
     "metadata": {},
     "output_type": "execute_result"
    }
   ],
   "source": [
    "df1.nunique()"
   ]
  },
  {
   "cell_type": "code",
   "execution_count": 20,
   "id": "dde727de",
   "metadata": {},
   "outputs": [
    {
     "name": "stdout",
     "output_type": "stream",
     "text": [
      "Index(['name_suffix_lbl', 'half_code', 'city', 'race_lbl', 'party_lbl',\n",
      "       'gender_lbl', 'registration_dt', 'eoy_age', 'municipality_lbl',\n",
      "       'ward_lbl', 'congressional_district_lbl', '11/03/2020'],\n",
      "      dtype='object')\n",
      "name_suffix_lbl                  11\n",
      "half_code                         4\n",
      "city                             19\n",
      "race_lbl                          3\n",
      "party_lbl                         4\n",
      "gender_lbl                        3\n",
      "registration_dt               10545\n",
      "eoy_age                          91\n",
      "municipality_lbl                 15\n",
      "ward_lbl                         16\n",
      "congressional_district_lbl        2\n",
      "11/03/2020                        2\n",
      "dtype: int64\n"
     ]
    }
   ],
   "source": [
    "# List of columns that likely have low predictive power\n",
    "low_pred = ['county_name', 'ReportDate', 'status_lbl', 'voter_reg_num', 'last_name', 'first_name', \n",
    "            'middle_name', 'house_num', 'street_name','street_dir_lbl', 'street_type_lbl', 'street_suffix_lbl',\n",
    "            'unit_designator', 'unit_num_str', 'state', 'zip', 'mail_addr1', 'mail_addr2', 'mail_addr3', \n",
    "            'mail_addr4', 'mail_city', 'mail_state', 'mail_zip', 'prosecutorial_lbl', 'voting_district_lbl',\n",
    "            'precinct_lbl', 'school_lbl', 'superior_court_lbl', 'judicial_district_lbl', 'nc_senate_lbl', \n",
    "            'nc_house_lbl', 'nc_house_lbl', 'county_commissioner_lbl']\n",
    "\n",
    "# Drop columns in low_pred from dataframe\n",
    "df1 = df1.drop(low_pred, axis=1).copy()\n",
    "\n",
    "\n",
    "# Verify columns have been dropped\n",
    "print(df1.columns)\n",
    "\n",
    "\n",
    "print(df1.nunique())"
   ]
  },
  {
   "cell_type": "markdown",
   "id": "c9f6bf73",
   "metadata": {},
   "source": [
    "### Fill or impute any null values\n",
    "* name_suffix_lbl and half_code are almost completly missing.\n",
    "* ward_lbl has too many categories(16); making it hard to impute.\n",
    "* These columns will be dropped leaving no missing values in the dataframe."
   ]
  },
  {
   "cell_type": "code",
   "execution_count": 21,
   "id": "3a5845fa",
   "metadata": {},
   "outputs": [
    {
     "data": {
      "text/plain": [
       "name_suffix_lbl               0.953313\n",
       "half_code                     0.999614\n",
       "city                          0.000000\n",
       "race_lbl                      0.000000\n",
       "party_lbl                     0.000000\n",
       "gender_lbl                    0.000000\n",
       "registration_dt               0.000000\n",
       "eoy_age                       0.000000\n",
       "municipality_lbl              0.000000\n",
       "ward_lbl                      0.440162\n",
       "congressional_district_lbl    0.000000\n",
       "11/03/2020                    0.000000\n",
       "dtype: float64"
      ]
     },
     "execution_count": 21,
     "metadata": {},
     "output_type": "execute_result"
    }
   ],
   "source": [
    "# Percentage of missing values\n",
    "df1.isnull().sum() / len(df1)"
   ]
  },
  {
   "cell_type": "code",
   "execution_count": 22,
   "id": "d90cad2d",
   "metadata": {},
   "outputs": [
    {
     "data": {
      "text/plain": [
       "city                          0\n",
       "race_lbl                      0\n",
       "party_lbl                     0\n",
       "gender_lbl                    0\n",
       "registration_dt               0\n",
       "eoy_age                       0\n",
       "municipality_lbl              0\n",
       "congressional_district_lbl    0\n",
       "11/03/2020                    0\n",
       "dtype: int64"
      ]
     },
     "execution_count": 22,
     "metadata": {},
     "output_type": "execute_result"
    }
   ],
   "source": [
    "# List of columns to drop\n",
    "mis_cols = ['name_suffix_lbl', 'half_code', 'ward_lbl']\n",
    "\n",
    "# Drop columns from datafame\n",
    "df1 = df1.drop(mis_cols, axis=1).copy()\n",
    "\n",
    "# Verify missing value count\n",
    "df1.isnull().sum()"
   ]
  },
  {
   "cell_type": "markdown",
   "id": "0fb3be50",
   "metadata": {},
   "source": [
    "### Create New Variable: years_registered"
   ]
  },
  {
   "cell_type": "code",
   "execution_count": 23,
   "id": "11b7d73c",
   "metadata": {},
   "outputs": [
    {
     "data": {
      "text/plain": [
       "0          1\n",
       "1          1\n",
       "2         32\n",
       "3         49\n",
       "4          1\n",
       "          ..\n",
       "337388     9\n",
       "337389     3\n",
       "337390     1\n",
       "337391     7\n",
       "337392     7\n",
       "Name: years_registered, Length: 712637, dtype: int64"
      ]
     },
     "execution_count": 23,
     "metadata": {},
     "output_type": "execute_result"
    }
   ],
   "source": [
    "# Use current year to calculate years_registered\n",
    "df1['years_registered'] = 2023 - df1['registration_dt'].dt.year\n",
    "\n",
    "df1['years_registered']"
   ]
  },
  {
   "cell_type": "markdown",
   "id": "4aa09a66",
   "metadata": {},
   "source": [
    "### Reduce categorical variables to have <= 5 values\n",
    "* Columns: registration_dt, city, municipality_lbl"
   ]
  },
  {
   "cell_type": "code",
   "execution_count": 24,
   "id": "99803ea1",
   "metadata": {},
   "outputs": [
    {
     "data": {
      "text/plain": [
       "city                             19\n",
       "race_lbl                          3\n",
       "party_lbl                         4\n",
       "gender_lbl                        3\n",
       "registration_dt               10545\n",
       "eoy_age                          91\n",
       "municipality_lbl                 15\n",
       "congressional_district_lbl        2\n",
       "11/03/2020                        2\n",
       "years_registered                 72\n",
       "dtype: int64"
      ]
     },
     "execution_count": 24,
     "metadata": {},
     "output_type": "execute_result"
    }
   ],
   "source": [
    "df1.nunique()"
   ]
  },
  {
   "cell_type": "markdown",
   "id": "a232ce40",
   "metadata": {},
   "source": [
    "#### registration_dt (Drop)"
   ]
  },
  {
   "cell_type": "code",
   "execution_count": 25,
   "id": "d5d44ffb",
   "metadata": {},
   "outputs": [],
   "source": [
    "# Drop registration_dt\n",
    "df1 = df1.drop('registration_dt', axis=1).copy()"
   ]
  },
  {
   "cell_type": "markdown",
   "id": "2ff0ddf7",
   "metadata": {},
   "source": [
    "#### city"
   ]
  },
  {
   "cell_type": "code",
   "execution_count": 26,
   "id": "0184e90e",
   "metadata": {},
   "outputs": [
    {
     "data": {
      "text/plain": [
       "RALEIGH          341057\n",
       "CARY             102470\n",
       "APEX              56930\n",
       "WAKE FOREST       50150\n",
       "FUQUAY VARINA     34260\n",
       "HOLLY SPRINGS     29393\n",
       "GARNER            22820\n",
       "KNIGHTDALE        19594\n",
       "MORRISVILLE       15706\n",
       "WENDELL           13048\n",
       "ZEBULON           10218\n",
       "WILLOW SPRING      6653\n",
       "ROLESVILLE         5911\n",
       "NEW HILL           2337\n",
       "CLAYTON             601\n",
       "ANGIER              580\n",
       "YOUNGSVILLE         413\n",
       "CREEDMOOR           302\n",
       "DURHAM              194\n",
       "Name: city, dtype: int64"
      ]
     },
     "execution_count": 26,
     "metadata": {},
     "output_type": "execute_result"
    }
   ],
   "source": [
    "# Function to convert City column into 5 categories\n",
    "def city_conv(city):\n",
    "    if (city == 'RALEIGH') or (city == 'CARY') or (city == 'APEX') or (city == 'WAKE FOREST'):\n",
    "        return city\n",
    "    else:\n",
    "        return 'OTHER'\n",
    "\n",
    "# Explore city column values\n",
    "df1['city'].value_counts()"
   ]
  },
  {
   "cell_type": "code",
   "execution_count": 27,
   "id": "69103b46",
   "metadata": {},
   "outputs": [
    {
     "data": {
      "text/plain": [
       "RALEIGH        341057\n",
       "OTHER          162030\n",
       "CARY           102470\n",
       "APEX            56930\n",
       "WAKE FOREST     50150\n",
       "Name: city, dtype: int64"
      ]
     },
     "execution_count": 27,
     "metadata": {},
     "output_type": "execute_result"
    }
   ],
   "source": [
    "# Convert city column with function\n",
    "df1['city'] = df1['city'].apply(city_conv)\n",
    "\n",
    "df1['city'].value_counts()"
   ]
  },
  {
   "cell_type": "markdown",
   "id": "ec4bb8fc",
   "metadata": {},
   "source": [
    "#### municipality_lbl"
   ]
  },
  {
   "cell_type": "code",
   "execution_count": 28,
   "id": "a189fe05",
   "metadata": {},
   "outputs": [
    {
     "data": {
      "text/plain": [
       "RAL    276613\n",
       "UNC    135356\n",
       "CAR    107256\n",
       "APE     41776\n",
       "WF      31518\n",
       "HOL     27754\n",
       "FV      25783\n",
       "GAR     20893\n",
       "MOR     14395\n",
       "KNI     12081\n",
       "WEN      7252\n",
       "ROL      6712\n",
       "ZEB      4551\n",
       "ANG       526\n",
       "DUR       171\n",
       "Name: municipality_lbl, dtype: int64"
      ]
     },
     "execution_count": 28,
     "metadata": {},
     "output_type": "execute_result"
    }
   ],
   "source": [
    "# Function to limit categories\n",
    "def mun_conv(mun):\n",
    "    if (mun == 'RAL') or (mun == 'UNC') or (mun == 'CAR'):\n",
    "        return mun\n",
    "    else:\n",
    "        return 'OTHER'\n",
    "\n",
    "# Explore column values\n",
    "df1['municipality_lbl'].value_counts()"
   ]
  },
  {
   "cell_type": "code",
   "execution_count": 29,
   "id": "f1344335",
   "metadata": {},
   "outputs": [
    {
     "data": {
      "text/plain": [
       "RAL      276613\n",
       "OTHER    193412\n",
       "UNC      135356\n",
       "CAR      107256\n",
       "Name: municipality_lbl, dtype: int64"
      ]
     },
     "execution_count": 29,
     "metadata": {},
     "output_type": "execute_result"
    }
   ],
   "source": [
    "# Apply the function\n",
    "df1['municipality_lbl'] = df1['municipality_lbl'].apply(mun_conv)\n",
    "\n",
    "# Verify the new values\n",
    "df1['municipality_lbl'].value_counts()"
   ]
  },
  {
   "cell_type": "markdown",
   "id": "f1b01d18",
   "metadata": {},
   "source": [
    "### For numeric variables: explore the descriptive stats, histograms, and scatterplots/correlation"
   ]
  },
  {
   "cell_type": "markdown",
   "id": "cc1c9e68",
   "metadata": {},
   "source": [
    "#### eoy_age"
   ]
  },
  {
   "cell_type": "code",
   "execution_count": 30,
   "id": "137c93a8",
   "metadata": {},
   "outputs": [
    {
     "name": "stdout",
     "output_type": "stream",
     "text": [
      "count    712637.000000\n",
      "mean         47.997737\n",
      "std          17.992630\n",
      "min          18.000000\n",
      "25%          33.000000\n",
      "50%          47.000000\n",
      "75%          62.000000\n",
      "max         108.000000\n",
      "Name: eoy_age, dtype: float64\n"
     ]
    }
   ],
   "source": [
    "# EOY_Age statistics\n",
    "print(df1['eoy_age'].describe())"
   ]
  },
  {
   "cell_type": "code",
   "execution_count": 31,
   "id": "e0ca4815",
   "metadata": {},
   "outputs": [
    {
     "data": {
      "text/plain": [
       "Text(0, 0.5, 'Count')"
      ]
     },
     "execution_count": 31,
     "metadata": {},
     "output_type": "execute_result"
    },
    {
     "data": {
      "image/png": "[encoded data removed]",
      "text/plain": [
       "<Figure size 432x288 with 1 Axes>"
      ]
     },
     "metadata": {
      "needs_background": "light"
     },
     "output_type": "display_data"
    }
   ],
   "source": [
    "import matplotlib.pyplot as plt\n",
    "\n",
    "fig, ax = plt.subplots(figsize=(6,4))\n",
    "\n",
    "# eoy_age histogram\n",
    "df1['eoy_age'].hist()\n",
    "ax.set_xlabel('eoy_age')\n",
    "ax.set_ylabel('Count')"
   ]
  },
  {
   "cell_type": "code",
   "execution_count": 32,
   "id": "461ea81f",
   "metadata": {},
   "outputs": [
    {
     "name": "stdout",
     "output_type": "stream",
     "text": [
      "count    712637.000000\n",
      "mean         13.221496\n",
      "std          12.342712\n",
      "min           0.000000\n",
      "25%           3.000000\n",
      "50%           9.000000\n",
      "75%          19.000000\n",
      "max          71.000000\n",
      "Name: years_registered, dtype: float64\n"
     ]
    }
   ],
   "source": [
    "# Years registered statistics\n",
    "print(df1['years_registered'].describe())"
   ]
  },
  {
   "cell_type": "code",
   "execution_count": 33,
   "id": "dcf4f10e",
   "metadata": {},
   "outputs": [
    {
     "data": {
      "text/plain": [
       "Text(0, 0.5, 'Count')"
      ]
     },
     "execution_count": 33,
     "metadata": {},
     "output_type": "execute_result"
    },
    {
     "data": {
      "image/png": "[encoded data removed]",
      "text/plain": [
       "<Figure size 432x288 with 1 Axes>"
      ]
     },
     "metadata": {
      "needs_background": "light"
     },
     "output_type": "display_data"
    }
   ],
   "source": [
    "fig, ax = plt.subplots(figsize=(6,4))\n",
    "\n",
    "# years histogram\n",
    "df1['years_registered'].hist()\n",
    "ax.set_xlabel('years_registered')\n",
    "ax.set_ylabel('Count')"
   ]
  },
  {
   "cell_type": "markdown",
   "id": "35622005",
   "metadata": {},
   "source": [
    "#### Eoy_Age vs Years_Registered Scatterplot"
   ]
  },
  {
   "cell_type": "code",
   "execution_count": 34,
   "id": "4f35213a",
   "metadata": {},
   "outputs": [
    {
     "data": {
      "text/plain": [
       "<AxesSubplot:xlabel='eoy_age', ylabel='years_registered'>"
      ]
     },
     "execution_count": 34,
     "metadata": {},
     "output_type": "execute_result"
    },
    {
     "data": {
      "image/png": "[encoded data removed]",
      "text/plain": [
       "<Figure size 432x288 with 1 Axes>"
      ]
     },
     "metadata": {
      "needs_background": "light"
     },
     "output_type": "display_data"
    }
   ],
   "source": [
    "df1.plot.scatter('eoy_age', 'years_registered')"
   ]
  },
  {
   "cell_type": "markdown",
   "id": "543c50d0",
   "metadata": {},
   "source": [
    "#### Correlation Matrix: Eoy_Age vs Years_Registered"
   ]
  },
  {
   "cell_type": "code",
   "execution_count": 35,
   "id": "5c9f13ab",
   "metadata": {},
   "outputs": [
    {
     "data": {
      "text/html": [
       "<div>\n",
       "<style scoped>\n",
       "    .dataframe tbody tr th:only-of-type {\n",
       "        vertical-align: middle;\n",
       "    }\n",
       "\n",
       "    .dataframe tbody tr th {\n",
       "        vertical-align: top;\n",
       "    }\n",
       "\n",
       "    .dataframe thead th {\n",
       "        text-align: right;\n",
       "    }\n",
       "</style>\n",
       "<table border=\"1\" class=\"dataframe\">\n",
       "  <thead>\n",
       "    <tr style=\"text-align: right;\">\n",
       "      <th></th>\n",
       "      <th>eoy_age</th>\n",
       "      <th>years_registered</th>\n",
       "    </tr>\n",
       "  </thead>\n",
       "  <tbody>\n",
       "    <tr>\n",
       "      <th>eoy_age</th>\n",
       "      <td>1.000000</td>\n",
       "      <td>0.586979</td>\n",
       "    </tr>\n",
       "    <tr>\n",
       "      <th>years_registered</th>\n",
       "      <td>0.586979</td>\n",
       "      <td>1.000000</td>\n",
       "    </tr>\n",
       "  </tbody>\n",
       "</table>\n",
       "</div>"
      ],
      "text/plain": [
       "                   eoy_age  years_registered\n",
       "eoy_age           1.000000          0.586979\n",
       "years_registered  0.586979          1.000000"
      ]
     },
     "execution_count": 35,
     "metadata": {},
     "output_type": "execute_result"
    }
   ],
   "source": [
    "df1[['eoy_age', 'years_registered']].corr()"
   ]
  },
  {
   "cell_type": "markdown",
   "id": "0fc4a2b2",
   "metadata": {},
   "source": [
    "### Decision Tree Models"
   ]
  },
  {
   "cell_type": "code",
   "execution_count": 36,
   "id": "a6ff8316",
   "metadata": {},
   "outputs": [],
   "source": [
    "from sklearn import tree\n",
    "from sklearn.model_selection import train_test_split\n",
    "from sklearn import metrics\n",
    "\n",
    "# Encode categorical variables\n",
    "model_data = pd.get_dummies(df1)\n",
    "\n",
    "# Rename target variable\n",
    "model_data = model_data.rename(columns={'11/03/2020':'voted_2020'})\n",
    "\n",
    "# Split data into independant variables(X) and dependent variable(y)\n",
    "X = model_data.drop('voted_2020', axis=1).copy()\n",
    "y = model_data['voted_2020']\n",
    "\n",
    "# Column names for Tree Plot\n",
    "feature_cols = X.columns\n",
    "\n",
    "# Split data into training and testing sets\n",
    "X_train, X_test, y_train, y_test = train_test_split(X, y, random_state=42)"
   ]
  },
  {
   "cell_type": "code",
   "execution_count": 37,
   "id": "95497b7d",
   "metadata": {},
   "outputs": [],
   "source": [
    "# This function runs a Decision Tree and returns evaluation metrics with the Decision Tree\n",
    "# The parameters have defualt values that can be changed explicitly\n",
    "def tree_model(depth=3, cw='balanced', c='gini', s='best', msl=2, mf='sqrt'):\n",
    "    # Create Decision Tree Object\n",
    "    clf = tree.DecisionTreeClassifier(max_depth=depth, class_weight=cw, criterion=c, splitter=s, min_samples_leaf=msl, max_features=mf, random_state=42)\n",
    "\n",
    "    # Fit the Decision Tree Object to training data\n",
    "    clf2 = clf.fit(X_train, y_train)\n",
    "\n",
    "    # Visualize Tree\n",
    "    plt.figure(figsize=(15,7))\n",
    "    tree.plot_tree(clf2,\n",
    "                  feature_names=feature_cols,\n",
    "                  class_names=['Did Not Vote', 'Voted'],\n",
    "                  filled=True, precision=2,\n",
    "                  node_ids=True, fontsize=12,\n",
    "                  label='root', proportion=True,\n",
    "                  impurity=True)\n",
    "\n",
    "    # Make Predictions for Test data\n",
    "    y_pred = clf2.predict(X_test)\n",
    "\n",
    "    #Create a Classification Report with Evaluation Metrics\n",
    "    print(metrics.classification_report(y_test, y_pred))\n"
   ]
  },
  {
   "cell_type": "markdown",
   "id": "e31995f9",
   "metadata": {},
   "source": [
    "### Decision Tree Model #1"
   ]
  },
  {
   "cell_type": "code",
   "execution_count": 38,
   "id": "4cf1fda0",
   "metadata": {},
   "outputs": [
    {
     "name": "stdout",
     "output_type": "stream",
     "text": [
      "              precision    recall  f1-score   support\n",
      "\n",
      "           0       0.48      0.62      0.54     40252\n",
      "           1       0.88      0.81      0.84    137908\n",
      "\n",
      "    accuracy                           0.76    178160\n",
      "   macro avg       0.68      0.71      0.69    178160\n",
      "weighted avg       0.79      0.76      0.77    178160\n",
      "\n"
     ]
    },
    {
     "data": {
      "image/png": "[encoded data removed]",
      "text/plain": [
       "<Figure size 1080x504 with 1 Axes>"
      ]
     },
     "metadata": {
      "needs_background": "light"
     },
     "output_type": "display_data"
    }
   ],
   "source": [
    "tree_model()"
   ]
  },
  {
   "cell_type": "markdown",
   "id": "65c87284",
   "metadata": {},
   "source": [
    "### Model #1 (Baseline) Evaluation: \n",
    "### Interpretation:\n",
    "* This model chose the <b>age(eoy_age)</b> to be the <b>best predictor of voter turnout.</b>\n",
    " * Other predictor variables chosen were <i>race_lbl_other, years_registered, and gender_lbl_other.</i>\n",
    "* <b>Most Likely to Vote</b>: Model #1 predicts that active Wake County voters who are over 37.5 years old, with a race listed as 'Other' , who have been registered longer than 2.5 years were most likely to vote. However, a larger percentage of citizens were predicted to vote if they are over 37.5 years old, either Black or White, with a gender listed as Male or Female. 54.8 percent of citizens vs 9.5%. \n",
    "* <b>Least Likely to Vote</b>: Model #1 predicts that active Wake County voters between the ages of 21 and 38 who list their race as black or white were least likely to vote.\n",
    " \n",
    "### Metric Summary (Positive Class/ \"Voted\"):\n",
    "* Precision: 88%\n",
    "* Recall: 81%\n",
    "* F1 Score: 84%\n",
    "* Accuracy: 76%  \n",
    "\n",
    "### Decision Tree #2"
   ]
  },
  {
   "cell_type": "code",
   "execution_count": 39,
   "id": "9bb71698",
   "metadata": {},
   "outputs": [
    {
     "name": "stdout",
     "output_type": "stream",
     "text": [
      "              precision    recall  f1-score   support\n",
      "\n",
      "           0       0.41      0.60      0.49     40252\n",
      "           1       0.86      0.75      0.80    137908\n",
      "\n",
      "    accuracy                           0.72    178160\n",
      "   macro avg       0.64      0.67      0.65    178160\n",
      "weighted avg       0.76      0.72      0.73    178160\n",
      "\n"
     ]
    },
    {
     "data": {
      "image/png": "[encoded data removed]",
      "text/plain": [
       "<Figure size 1080x504 with 1 Axes>"
      ]
     },
     "metadata": {
      "needs_background": "light"
     },
     "output_type": "display_data"
    }
   ],
   "source": [
    "tree_model(depth=2)"
   ]
  },
  {
   "cell_type": "markdown",
   "id": "bd89578f",
   "metadata": {},
   "source": [
    "### Model #2 Evaluation: \n",
    "### Interpretation:\n",
    "* This model also chose the <b>age(eoy_age)</b> to be the <b>best predictor of voter turnout.</b>\n",
    " * The other predictor variable chosen was <i>race_lbl_other.</i>\n",
    "* <b>Most Likely to Vote</b>: Model #2 predicts that active Wake County voters 47  years of age or older were the most likely to vote. \n",
    "* <b>Least Likely to Vote</b>: Model #2 predicts that active Wake County voters under the age of 38 with their race listed as 'Other' were the least likely to vote.\n",
    "\n",
    "### Metric Summary (Positive Class/ \"Voted\"):\n",
    "* Precision: 86%\n",
    "* Recall: 75%\n",
    "* F1 Score: 80%\n",
    "* Accuracy: 72%  "
   ]
  },
  {
   "cell_type": "markdown",
   "id": "90551e13",
   "metadata": {},
   "source": [
    "### Decision Tree # 3\n",
    "* Select Best Features based on Tree Plot from Model #1"
   ]
  },
  {
   "cell_type": "code",
   "execution_count": 40,
   "id": "097a1364",
   "metadata": {},
   "outputs": [
    {
     "data": {
      "text/plain": [
       "Index(['eoy_age', 'congressional_district_lbl', 'years_registered',\n",
       "       'city_APEX', 'city_CARY', 'city_OTHER', 'city_RALEIGH',\n",
       "       'city_WAKE FOREST', 'race_lbl_Black', 'race_lbl_Other',\n",
       "       'race_lbl_White', 'party_lbl_Democrat', 'party_lbl_Other',\n",
       "       'party_lbl_Republican', 'party_lbl_Unaffiliated', 'gender_lbl_Female',\n",
       "       'gender_lbl_Male', 'gender_lbl_Other', 'municipality_lbl_CAR',\n",
       "       'municipality_lbl_OTHER', 'municipality_lbl_RAL',\n",
       "       'municipality_lbl_UNC'],\n",
       "      dtype='object')"
      ]
     },
     "execution_count": 40,
     "metadata": {},
     "output_type": "execute_result"
    }
   ],
   "source": [
    "# Use the list of columns to select best features\n",
    "X.columns"
   ]
  },
  {
   "cell_type": "code",
   "execution_count": 41,
   "id": "6c832ef6",
   "metadata": {},
   "outputs": [
    {
     "name": "stdout",
     "output_type": "stream",
     "text": [
      "              precision    recall  f1-score   support\n",
      "\n",
      "           0       0.65      0.65      0.65     40252\n",
      "           1       0.90      0.90      0.90    137908\n",
      "\n",
      "    accuracy                           0.84    178160\n",
      "   macro avg       0.78      0.77      0.77    178160\n",
      "weighted avg       0.84      0.84      0.84    178160\n",
      "\n"
     ]
    },
    {
     "data": {
      "image/png": "[encoded data removed]",
      "text/plain": [
       "<Figure size 1080x504 with 1 Axes>"
      ]
     },
     "metadata": {
      "needs_background": "light"
     },
     "output_type": "display_data"
    }
   ],
   "source": [
    "# New dataframe with important features\n",
    "new_X = X[['eoy_age', 'years_registered', 'race_lbl_Black', 'race_lbl_Other',\n",
    "           'race_lbl_White', 'gender_lbl_Female','gender_lbl_Male', 'gender_lbl_Other']].copy()\n",
    "\n",
    "# New list of column names\n",
    "feature_cols = new_X.columns\n",
    "\n",
    "# Train test split with new dataframe\n",
    "X_train, X_test, y_train, y_test = train_test_split(new_X, y, random_state=42)\n",
    "\n",
    "tree_model()"
   ]
  },
  {
   "cell_type": "markdown",
   "id": "1bd04292",
   "metadata": {},
   "source": [
    "### Model #3 Evaluation: \n",
    "### Interpretation:\n",
    "* This model also chose the <b>age(eoy_age)</b> to be the <b>best predictor of voter turnout.</b>\n",
    " * The other predictor variable chosen were <i>race_lbl_Other, gender_lbl_Female, and gender_lbl_Male.</i> \n",
    "* <b>Most Likely to Vote</b>: Model #3 predicts that active Wake County female voter 38 years of age or older who have been registered to vote for over 2.5 years were most likely to vote.\n",
    "* <b>Least Likely to Vote</b>: Model #3 predicts that active Wake County black and white male voters under 38 years of age were least likely to vote.  \n",
    "\n",
    "### Metric Summary (Positive Class/ \"Voted\"):\n",
    "* Precision: 90%\n",
    "* Recall: 90%\n",
    "* F1 Score: 90%\n",
    "* Accuracy: 84%  "
   ]
  },
  {
   "cell_type": "markdown",
   "id": "3ae9ae48",
   "metadata": {},
   "source": [
    "## Champion Model:\n",
    "* <u>Model #3</u> is the best performing(Champion) model.\n",
    "* While additional work should be done to insure the model has not been overfit, this model uses features that were selected based of the results from the first Decision Tree.\n",
    "* These features result in imporved performance metrics, less input needed for the model, and reduced model complexity."
   ]
  },
  {
   "cell_type": "code",
   "execution_count": null,
   "id": "56fec52e",
   "metadata": {},
   "outputs": [],
   "source": []
  }
 ],
 "metadata": {
  "kernelspec": {
   "display_name": "Python 3 (ipykernel)",
   "language": "python",
   "name": "python3"
  },
  "language_info": {
   "codemirror_mode": {
    "name": "ipython",
    "version": 3
   },
   "file_extension": ".py",
   "mimetype": "text/x-python",
   "name": "python",
   "nbconvert_exporter": "python",
   "pygments_lexer": "ipython3",
   "version": "3.8.5"
  }
 },
 "nbformat": 4,
 "nbformat_minor": 5
}
